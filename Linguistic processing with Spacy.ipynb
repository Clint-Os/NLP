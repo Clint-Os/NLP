{
 "cells": [
  {
   "cell_type": "code",
   "execution_count": 2,
   "id": "5664866c-5697-41b1-80a1-6331352da7b6",
   "metadata": {},
   "outputs": [
    {
     "data": {
      "text/plain": [
       "[('tok2vec', <spacy.pipeline.tok2vec.Tok2Vec at 0x7fa7cc20f280>),\n",
       " ('tagger', <spacy.pipeline.tagger.Tagger at 0x7fa7cbf69e40>),\n",
       " ('parser', <spacy.pipeline.dep_parser.DependencyParser at 0x7fa7cc3f0eb0>),\n",
       " ('attribute_ruler',\n",
       "  <spacy.pipeline.attributeruler.AttributeRuler at 0x7fa7cbd426c0>),\n",
       " ('lemmatizer',\n",
       "  <spacy.lang.en.lemmatizer.EnglishLemmatizer at 0x7fa7cbd3d9c0>),\n",
       " ('ner', <spacy.pipeline.ner.EntityRecognizer at 0x7fa7cc3f0f20>)]"
      ]
     },
     "execution_count": 2,
     "metadata": {},
     "output_type": "execute_result"
    }
   ],
   "source": [
    "import spacy  \n",
    "nlp = spacy.load('en_core_web_sm')\n",
    "\n",
    "nlp.pipeline "
   ]
  },
  {
   "cell_type": "markdown",
   "id": "59186c24",
   "metadata": {},
   "source": [
    "The default pipeline consists of a tagger, parser, and named-entity recognizer (ner),\n",
    "all of which are language-dependent. The tokenizer is not explicitly listed because this\n",
    "step is always necessary."
   ]
  },
  {
   "cell_type": "code",
   "execution_count": 3,
   "id": "3b93a033-1d3b-4ae6-b5ee-2e473962ce08",
   "metadata": {},
   "outputs": [],
   "source": [
    "#often you will only need the tokenizer and the part-of-speech tagger.\n",
    "#In this case, disable the parser and NER like:\n",
    "\n",
    "nlp = spacy.load('en_core_web_sm', disable= ['parser', 'ner'])"
   ]
  },
  {
   "cell_type": "markdown",
   "id": "2b4b947a",
   "metadata": {},
   "source": [
    "Processing Text"
   ]
  },
  {
   "cell_type": "markdown",
   "id": "92333fc6",
   "metadata": {},
   "source": [
    "The call returns an object of type\n",
    "spacy.tokens.doc.Doc, a container to access the tokens, spans (ranges of tokens),\n",
    "and their linguistic annotations."
   ]
  },
  {
   "cell_type": "code",
   "execution_count": 4,
   "id": "a63ffec4-695f-47f3-af68-f069ba4c260d",
   "metadata": {},
   "outputs": [],
   "source": [
    "nlp = spacy.load(\"en_core_web_sm\")\n",
    "text = \"My best friend Ryan Peters likes fancy adventure games\"\n",
    "doc = nlp(text)"
   ]
  },
  {
   "cell_type": "markdown",
   "id": "163feed4",
   "metadata": {},
   "source": [
    "spaCy is object-oriented as well as nondestructive. The original text is always\n",
    "retained. When you print the doc object, it uses doc.text, the property containing\n",
    "the original text:"
   ]
  },
  {
   "cell_type": "code",
   "execution_count": 5,
   "id": "62b95d40-310a-4c95-b495-d933d0e88e29",
   "metadata": {},
   "outputs": [
    {
     "data": {
      "text/plain": [
       "My best friend Ryan Peters likes fancy adventure games"
      ]
     },
     "execution_count": 5,
     "metadata": {},
     "output_type": "execute_result"
    }
   ],
   "source": [
    "doc "
   ]
  },
  {
   "cell_type": "markdown",
   "id": "815c6b84",
   "metadata": {},
   "source": [
    "But doc is also a container object for the tokens, and you can use it\n",
    "as an iterator for them:"
   ]
  },
  {
   "cell_type": "code",
   "execution_count": 6,
   "id": "f01a1e4c-018a-4465-8f52-836395641571",
   "metadata": {},
   "outputs": [
    {
     "name": "stdout",
     "output_type": "stream",
     "text": [
      "My|best|friend|Ryan|Peters|likes|fancy|adventure|games|"
     ]
    }
   ],
   "source": [
    "for token in doc:\n",
    "    print(token, end='|')"
   ]
  },
  {
   "cell_type": "markdown",
   "id": "fcfd7d85",
   "metadata": {},
   "source": [
    "Each token is actually an object of spaCy’s class Token. Tokens, as well as docs, have a\n",
    "number of interesting properties for language processing"
   ]
  },
  {
   "cell_type": "markdown",
   "id": "8d0ca131",
   "metadata": {},
   "source": [
    "For each token, you find the lemma, some descriptive flags(e.g is_stop, is_alpha), the part-of-speech tag(pos),\n",
    "the dependency tag (dep_), and possibly some information about the entity type(ent_type_).\n",
    "\n",
    "The is_<something> flags are created based on rules, but\n",
    "all part-of-speech, dependency, and named-entity attributes are based on neural network\n",
    "models. So, there is always some degree of uncertainty in this information.\n",
    "\n",
    "The corpora used for training contain a mixture of news articles and online articles. The\n",
    "predictions of the model (en_core_web_sm) are fairly accurate if your data has similar linguistic characteristics.\n",
    "\n",
    "But if your data is very different—if you are working with Twitter data or\n",
    "IT service desk tickets, for example—you should be aware that this information is\n",
    "unreliable."
   ]
  },
  {
   "cell_type": "markdown",
   "id": "410a31aa",
   "metadata": {},
   "source": [
    "-----------------------------------------------------------------------------------------"
   ]
  },
  {
   "cell_type": "markdown",
   "id": "0da1f901",
   "metadata": {},
   "source": [
    "Extracting Noun Phrases\n"
   ]
  },
  {
   "cell_type": "code",
   "execution_count": null,
   "id": "33cbeb4f-4581-4549-847c-3223a3c7c5cf",
   "metadata": {},
   "outputs": [],
   "source": [
    "text = \"my best fr\""
   ]
  },
  {
   "cell_type": "code",
   "execution_count": null,
   "id": "00b78d5b",
   "metadata": {},
   "outputs": [],
   "source": []
  },
  {
   "cell_type": "code",
   "execution_count": null,
   "id": "197d63b7",
   "metadata": {},
   "outputs": [],
   "source": []
  },
  {
   "cell_type": "code",
   "execution_count": null,
   "id": "209cf6dd",
   "metadata": {},
   "outputs": [],
   "source": []
  },
  {
   "cell_type": "code",
   "execution_count": null,
   "id": "5a5bbb84",
   "metadata": {},
   "outputs": [],
   "source": []
  },
  {
   "cell_type": "code",
   "execution_count": null,
   "id": "774c2b31",
   "metadata": {},
   "outputs": [],
   "source": []
  },
  {
   "cell_type": "code",
   "execution_count": null,
   "id": "816ace25-a0a7-40d3-8045-5efe11f7cd3d",
   "metadata": {},
   "outputs": [],
   "source": []
  }
 ],
 "metadata": {
  "kernelspec": {
   "display_name": "Python 3 (ipykernel)",
   "language": "python",
   "name": "python3"
  }
 },
 "nbformat": 4,
 "nbformat_minor": 5
}
